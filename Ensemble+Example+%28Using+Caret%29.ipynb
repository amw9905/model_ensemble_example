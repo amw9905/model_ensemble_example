{
 "cells": [
  {
   "cell_type": "markdown",
   "metadata": {},
   "source": [
    "# Load libraries and summary functions"
   ]
  },
  {
   "cell_type": "code",
   "execution_count": 2,
   "metadata": {
    "collapsed": true
   },
   "outputs": [],
   "source": [
    "#Reference http://blog.kaggle.com/2016/12/27/a-kagglers-guide-to-model-stacking-in-practice/"
   ]
  },
  {
   "cell_type": "code",
   "execution_count": 3,
   "metadata": {
    "collapsed": true
   },
   "outputs": [],
   "source": [
    "#In this example we use cv to find the best base model then fit that model to the whole training set to make predictions \n",
    "#on the test set (This is what's in the link above)"
   ]
  },
  {
   "cell_type": "code",
   "execution_count": 4,
   "metadata": {
    "collapsed": true
   },
   "outputs": [],
   "source": [
    "suppressMessages({\n",
    "library(dplyr) # for data manipulation\n",
    "library(caret) # for model-building\n",
    "library(pROC) # for AUC calculations\n",
    "library(PRROC) # for Precision-Recall curve calculations\n",
    "library(magrittr) # for pipes\n",
    "library(caretEnsemble) #for stacking\n",
    "})"
   ]
  },
  {
   "cell_type": "code",
   "execution_count": 5,
   "metadata": {
    "collapsed": true
   },
   "outputs": [],
   "source": [
    "options(repr.matrix.max.cols=50)\n",
    "options(repr.matrix.max.rows=50)"
   ]
  },
  {
   "cell_type": "code",
   "execution_count": 6,
   "metadata": {
    "collapsed": true
   },
   "outputs": [],
   "source": [
    "set.seed(45406)"
   ]
  },
  {
   "cell_type": "code",
   "execution_count": 7,
   "metadata": {
    "collapsed": true
   },
   "outputs": [],
   "source": [
    "#Class1 == 0\n",
    "#Calss2 == 1\n",
    "\n",
    "aucSummary <- function(data, lev = NULL, model = NULL){\n",
    "  \n",
    "  index_class2 <- data$obs == \"Class2\"\n",
    "  index_class1 <- data$obs == \"Class1\"\n",
    "  \n",
    "  #calc the auc metrics\n",
    "  pr <- pr.curve(data$Class2[index_class2],\n",
    "                 data$Class2[index_class1],\n",
    "                 curve = FALSE)\n",
    "  \n",
    "  roc <- roc.curve(data$Class2[index_class2],\n",
    "                   data$Class2[index_class1],\n",
    "                   curve = FALSE)\n",
    "  \n",
    "  pr_out <- pr$auc.integral\n",
    "  \n",
    "  roc_out <- roc$auc\n",
    "  \n",
    "  obs <- data$obs\n",
    "  \n",
    "  \n",
    "  #Assign threshold\n",
    "  pre <- ifelse(data$Class2 > .5, 'Class2', 'Class1')\n",
    "  \n",
    "  #Calculate Accuracy  \n",
    "  acc <- mean(obs == pre)\n",
    "  \n",
    "  out <- c(pr_out,roc_out,acc)  \n",
    "  \n",
    "  names(out) <-c(\"AUPRC\",\"AUROC\",\"Accuracy\")\n",
    "  \n",
    "  out  \n",
    "}"
   ]
  },
  {
   "cell_type": "markdown",
   "metadata": {},
   "source": [
    "# Create test/train data sets"
   ]
  },
  {
   "cell_type": "code",
   "execution_count": 8,
   "metadata": {
    "collapsed": true
   },
   "outputs": [],
   "source": [
    "#Create data set\n",
    "data_set <- twoClassSim(1000,\n",
    "                    intercept = -6,\n",
    "                    linearVars = 8,\n",
    "                    noiseVars = 4)"
   ]
  },
  {
   "cell_type": "code",
   "execution_count": 9,
   "metadata": {
    "collapsed": true
   },
   "outputs": [],
   "source": [
    "#Create train/tests sets\n",
    "index <- createDataPartition(data_set$Class, p = 6/10, list=FALSE)\n",
    "\n",
    "train_set <- data_set[index,]\n",
    "test_set <- data_set[-index,]"
   ]
  },
  {
   "cell_type": "code",
   "execution_count": 10,
   "metadata": {},
   "outputs": [
    {
     "data": {
      "text/html": [
       "<ol class=list-inline>\n",
       "\t<li>601</li>\n",
       "\t<li>18</li>\n",
       "</ol>\n"
      ],
      "text/latex": [
       "\\begin{enumerate*}\n",
       "\\item 601\n",
       "\\item 18\n",
       "\\end{enumerate*}\n"
      ],
      "text/markdown": [
       "1. 601\n",
       "2. 18\n",
       "\n",
       "\n"
      ],
      "text/plain": [
       "[1] 601  18"
      ]
     },
     "metadata": {},
     "output_type": "display_data"
    },
    {
     "data": {
      "text/html": [
       "<table>\n",
       "<thead><tr><th></th><th scope=col>TwoFactor1</th><th scope=col>TwoFactor2</th><th scope=col>Linear1</th><th scope=col>Linear2</th><th scope=col>Linear3</th><th scope=col>Linear4</th><th scope=col>Linear5</th><th scope=col>Linear6</th><th scope=col>Linear7</th><th scope=col>Linear8</th><th scope=col>Nonlinear1</th><th scope=col>Nonlinear2</th><th scope=col>Nonlinear3</th><th scope=col>Noise1</th><th scope=col>Noise2</th><th scope=col>Noise3</th><th scope=col>Noise4</th><th scope=col>Class</th></tr></thead>\n",
       "<tbody>\n",
       "\t<tr><th scope=row>2</th><td> 0.8097223 </td><td> 1.47437548</td><td>-0.8076689 </td><td>-1.1319747 </td><td>-0.2866550 </td><td> 1.78247610</td><td> 0.16440952</td><td> 0.26069540</td><td> 0.5582444 </td><td>-0.8972071 </td><td>-0.04248304</td><td>0.9344437  </td><td>0.91795414 </td><td> 0.8458606 </td><td> 1.7498821 </td><td> 1.6652243 </td><td> 0.5959273 </td><td>Class1     </td></tr>\n",
       "\t<tr><th scope=row>3</th><td> 1.2387178 </td><td> 0.01599239</td><td>-1.2053774 </td><td>-1.0802625 </td><td> 2.2725103 </td><td>-0.31690291</td><td> 1.07191422</td><td>-0.52142051</td><td> 1.0209103 </td><td> 0.8011080 </td><td>-0.68616298</td><td>0.3735412  </td><td>0.60716965 </td><td>-0.6950674 </td><td>-0.1531351 </td><td>-0.1616989 </td><td> 1.7063336 </td><td>Class1     </td></tr>\n",
       "\t<tr><th scope=row>5</th><td>-0.5131204 </td><td> 0.25986890</td><td> 1.5314869 </td><td>-0.4635079 </td><td> 1.5407780 </td><td>-1.36485763</td><td>-2.01751135</td><td>-0.04614105</td><td> 0.2751114 </td><td> 0.4361813 </td><td> 0.44862104</td><td>0.8372881  </td><td>0.91693135 </td><td>-0.1913738 </td><td> 0.6197387 </td><td>-1.2638430 </td><td>-0.1050231 </td><td>Class2     </td></tr>\n",
       "\t<tr><th scope=row>6</th><td> 1.0278531 </td><td> 1.61567486</td><td>-0.1555739 </td><td> 0.4161480 </td><td>-0.1254957 </td><td> 0.07546147</td><td> 0.93962369</td><td>-1.52580671</td><td>-0.1069174 </td><td>-0.7167698 </td><td>-0.66104746</td><td>0.4615281  </td><td>0.14162099 </td><td>-1.3987289 </td><td> 0.8233420 </td><td> 0.5832635 </td><td> 1.0977854 </td><td>Class2     </td></tr>\n",
       "\t<tr><th scope=row>7</th><td> 1.3514164 </td><td> 0.15930289</td><td>-0.9060178 </td><td> 0.9092948 </td><td>-0.0106088 </td><td>-0.17534387</td><td> 0.06520887</td><td> 0.16230173</td><td>-0.9382551 </td><td>-1.0432937 </td><td> 0.01796992</td><td>0.9273337  </td><td>0.18118455 </td><td>-0.2059794 </td><td> 0.3343527 </td><td>-0.5753191 </td><td>-0.9176470 </td><td>Class1     </td></tr>\n",
       "\t<tr><th scope=row>8</th><td>-0.3416407 </td><td>-3.37577238</td><td> 0.5900949 </td><td> 2.0505353 </td><td> 0.2392311 </td><td> 0.53155128</td><td>-0.68023745</td><td> 1.96639816</td><td> 1.4230917 </td><td> 1.2681464 </td><td>-0.95171187</td><td>0.8373439  </td><td>0.05076276 </td><td> 1.6775790 </td><td>-1.4540916 </td><td> 0.1381279 </td><td>-0.2966907 </td><td>Class1     </td></tr>\n",
       "</tbody>\n",
       "</table>\n"
      ],
      "text/latex": [
       "\\begin{tabular}{r|llllllllllllllllll}\n",
       "  & TwoFactor1 & TwoFactor2 & Linear1 & Linear2 & Linear3 & Linear4 & Linear5 & Linear6 & Linear7 & Linear8 & Nonlinear1 & Nonlinear2 & Nonlinear3 & Noise1 & Noise2 & Noise3 & Noise4 & Class\\\\\n",
       "\\hline\n",
       "\t2 &  0.8097223  &  1.47437548 & -0.8076689  & -1.1319747  & -0.2866550  &  1.78247610 &  0.16440952 &  0.26069540 &  0.5582444  & -0.8972071  & -0.04248304 & 0.9344437   & 0.91795414  &  0.8458606  &  1.7498821  &  1.6652243  &  0.5959273  & Class1     \\\\\n",
       "\t3 &  1.2387178  &  0.01599239 & -1.2053774  & -1.0802625  &  2.2725103  & -0.31690291 &  1.07191422 & -0.52142051 &  1.0209103  &  0.8011080  & -0.68616298 & 0.3735412   & 0.60716965  & -0.6950674  & -0.1531351  & -0.1616989  &  1.7063336  & Class1     \\\\\n",
       "\t5 & -0.5131204  &  0.25986890 &  1.5314869  & -0.4635079  &  1.5407780  & -1.36485763 & -2.01751135 & -0.04614105 &  0.2751114  &  0.4361813  &  0.44862104 & 0.8372881   & 0.91693135  & -0.1913738  &  0.6197387  & -1.2638430  & -0.1050231  & Class2     \\\\\n",
       "\t6 &  1.0278531  &  1.61567486 & -0.1555739  &  0.4161480  & -0.1254957  &  0.07546147 &  0.93962369 & -1.52580671 & -0.1069174  & -0.7167698  & -0.66104746 & 0.4615281   & 0.14162099  & -1.3987289  &  0.8233420  &  0.5832635  &  1.0977854  & Class2     \\\\\n",
       "\t7 &  1.3514164  &  0.15930289 & -0.9060178  &  0.9092948  & -0.0106088  & -0.17534387 &  0.06520887 &  0.16230173 & -0.9382551  & -1.0432937  &  0.01796992 & 0.9273337   & 0.18118455  & -0.2059794  &  0.3343527  & -0.5753191  & -0.9176470  & Class1     \\\\\n",
       "\t8 & -0.3416407  & -3.37577238 &  0.5900949  &  2.0505353  &  0.2392311  &  0.53155128 & -0.68023745 &  1.96639816 &  1.4230917  &  1.2681464  & -0.95171187 & 0.8373439   & 0.05076276  &  1.6775790  & -1.4540916  &  0.1381279  & -0.2966907  & Class1     \\\\\n",
       "\\end{tabular}\n"
      ],
      "text/markdown": [
       "\n",
       "| <!--/--> | TwoFactor1 | TwoFactor2 | Linear1 | Linear2 | Linear3 | Linear4 | Linear5 | Linear6 | Linear7 | Linear8 | Nonlinear1 | Nonlinear2 | Nonlinear3 | Noise1 | Noise2 | Noise3 | Noise4 | Class | \n",
       "|---|---|---|---|---|---|\n",
       "| 2 |  0.8097223  |  1.47437548 | -0.8076689  | -1.1319747  | -0.2866550  |  1.78247610 |  0.16440952 |  0.26069540 |  0.5582444  | -0.8972071  | -0.04248304 | 0.9344437   | 0.91795414  |  0.8458606  |  1.7498821  |  1.6652243  |  0.5959273  | Class1      | \n",
       "| 3 |  1.2387178  |  0.01599239 | -1.2053774  | -1.0802625  |  2.2725103  | -0.31690291 |  1.07191422 | -0.52142051 |  1.0209103  |  0.8011080  | -0.68616298 | 0.3735412   | 0.60716965  | -0.6950674  | -0.1531351  | -0.1616989  |  1.7063336  | Class1      | \n",
       "| 5 | -0.5131204  |  0.25986890 |  1.5314869  | -0.4635079  |  1.5407780  | -1.36485763 | -2.01751135 | -0.04614105 |  0.2751114  |  0.4361813  |  0.44862104 | 0.8372881   | 0.91693135  | -0.1913738  |  0.6197387  | -1.2638430  | -0.1050231  | Class2      | \n",
       "| 6 |  1.0278531  |  1.61567486 | -0.1555739  |  0.4161480  | -0.1254957  |  0.07546147 |  0.93962369 | -1.52580671 | -0.1069174  | -0.7167698  | -0.66104746 | 0.4615281   | 0.14162099  | -1.3987289  |  0.8233420  |  0.5832635  |  1.0977854  | Class2      | \n",
       "| 7 |  1.3514164  |  0.15930289 | -0.9060178  |  0.9092948  | -0.0106088  | -0.17534387 |  0.06520887 |  0.16230173 | -0.9382551  | -1.0432937  |  0.01796992 | 0.9273337   | 0.18118455  | -0.2059794  |  0.3343527  | -0.5753191  | -0.9176470  | Class1      | \n",
       "| 8 | -0.3416407  | -3.37577238 |  0.5900949  |  2.0505353  |  0.2392311  |  0.53155128 | -0.68023745 |  1.96639816 |  1.4230917  |  1.2681464  | -0.95171187 | 0.8373439   | 0.05076276  |  1.6775790  | -1.4540916  |  0.1381279  | -0.2966907  | Class1      | \n",
       "\n",
       "\n"
      ],
      "text/plain": [
       "  TwoFactor1 TwoFactor2  Linear1    Linear2    Linear3    Linear4    \n",
       "2  0.8097223  1.47437548 -0.8076689 -1.1319747 -0.2866550  1.78247610\n",
       "3  1.2387178  0.01599239 -1.2053774 -1.0802625  2.2725103 -0.31690291\n",
       "5 -0.5131204  0.25986890  1.5314869 -0.4635079  1.5407780 -1.36485763\n",
       "6  1.0278531  1.61567486 -0.1555739  0.4161480 -0.1254957  0.07546147\n",
       "7  1.3514164  0.15930289 -0.9060178  0.9092948 -0.0106088 -0.17534387\n",
       "8 -0.3416407 -3.37577238  0.5900949  2.0505353  0.2392311  0.53155128\n",
       "  Linear5     Linear6     Linear7    Linear8    Nonlinear1  Nonlinear2\n",
       "2  0.16440952  0.26069540  0.5582444 -0.8972071 -0.04248304 0.9344437 \n",
       "3  1.07191422 -0.52142051  1.0209103  0.8011080 -0.68616298 0.3735412 \n",
       "5 -2.01751135 -0.04614105  0.2751114  0.4361813  0.44862104 0.8372881 \n",
       "6  0.93962369 -1.52580671 -0.1069174 -0.7167698 -0.66104746 0.4615281 \n",
       "7  0.06520887  0.16230173 -0.9382551 -1.0432937  0.01796992 0.9273337 \n",
       "8 -0.68023745  1.96639816  1.4230917  1.2681464 -0.95171187 0.8373439 \n",
       "  Nonlinear3 Noise1     Noise2     Noise3     Noise4     Class \n",
       "2 0.91795414  0.8458606  1.7498821  1.6652243  0.5959273 Class1\n",
       "3 0.60716965 -0.6950674 -0.1531351 -0.1616989  1.7063336 Class1\n",
       "5 0.91693135 -0.1913738  0.6197387 -1.2638430 -0.1050231 Class2\n",
       "6 0.14162099 -1.3987289  0.8233420  0.5832635  1.0977854 Class2\n",
       "7 0.18118455 -0.2059794  0.3343527 -0.5753191 -0.9176470 Class1\n",
       "8 0.05076276  1.6775790 -1.4540916  0.1381279 -0.2966907 Class1"
      ]
     },
     "metadata": {},
     "output_type": "display_data"
    }
   ],
   "source": [
    "#Look at dim\n",
    "train_set %>% dim()\n",
    "\n",
    "train_set %>% head()"
   ]
  },
  {
   "cell_type": "markdown",
   "metadata": {},
   "source": [
    "# Caret for ensemble "
   ]
  },
  {
   "cell_type": "code",
   "execution_count": 1,
   "metadata": {
    "collapsed": true
   },
   "outputs": [],
   "source": [
    "#This ensemble only uses the output from two base models. \n",
    "#(Not the output of the two base models + the original varaibles like a stacked model )\n",
    "\n",
    "# https://www.machinelearningplus.com/machine-learning/caret-package/"
   ]
  },
  {
   "cell_type": "code",
   "execution_count": 13,
   "metadata": {},
   "outputs": [
    {
     "data": {
      "text/plain": [
       "\n",
       "Call:\n",
       "summary.resamples(object = results)\n",
       "\n",
       "Models: rf, gbm \n",
       "Number of resamples: 5 \n",
       "\n",
       "Accuracy \n",
       "         Min.   1st Qu.    Median      Mean   3rd Qu.      Max. NA's\n",
       "rf  0.7796258 0.7837838 0.7879418 0.7903508 0.7937500 0.8066528    0\n",
       "gbm 0.7833333 0.7941788 0.7962578 0.7974151 0.8045738 0.8087318    0\n",
       "\n",
       "Kappa \n",
       "         Min.   1st Qu.    Median      Mean   3rd Qu.      Max. NA's\n",
       "rf  0.5121891 0.5364027 0.5438839 0.5476153 0.5642806 0.5813203    0\n",
       "gbm 0.5250328 0.5543087 0.5680960 0.5636982 0.5764179 0.5946357    0\n"
      ]
     },
     "metadata": {},
     "output_type": "display_data"
    }
   ],
   "source": [
    "#Control\n",
    "trainControl <- trainControl(method=\"repeatedcv\", \n",
    "                             number=10,\n",
    "                             index = createFolds(train_set$Class, 5),\n",
    "                             repeats=3,\n",
    "                             savePredictions=\"all\", \n",
    "                             classProbs=TRUE)\n",
    "\n",
    "#Base Models\n",
    "algorithmList <- c('rf', 'gbm')\n",
    "\n",
    "#Fit Base Models\n",
    "models <- caretList(Class ~ ., data=train_set,\n",
    "                    trControl=trainControl,\n",
    "                    methodList=algorithmList,\n",
    "                    metric = \"Accuracy\") \n",
    "\n",
    "#Get Results\n",
    "results <- resamples(models)\n",
    "summary(results)"
   ]
  },
  {
   "cell_type": "code",
   "execution_count": 14,
   "metadata": {},
   "outputs": [
    {
     "name": "stdout",
     "output_type": "stream",
     "text": [
      "A glm ensemble of 2 base models: rf, gbm\n",
      "\n",
      "Ensemble results:\n",
      "Generalized Linear Model \n",
      "\n",
      "2404 samples\n",
      "   2 predictor\n",
      "   2 classes: 'Class1', 'Class2' \n",
      "\n",
      "No pre-processing\n",
      "Resampling: Cross-Validated (10 fold, repeated 3 times) \n",
      "Summary of sample sizes: 2163, 2163, 2163, 2163, 2165, 2164, ... \n",
      "Resampling results:\n",
      "\n",
      "  Accuracy   Kappa    \n",
      "  0.8071213  0.5899372\n",
      "\n"
     ]
    }
   ],
   "source": [
    "#Use different control for ensemble\n",
    "stackControl <- trainControl(method=\"repeatedcv\", \n",
    "                             number=10, \n",
    "                             repeats=3,\n",
    "                             savePredictions=TRUE, \n",
    "                             classProbs=TRUE)\n",
    "\n",
    "\n",
    "#Fit ensemble \n",
    "stack.glm <- caretStack(models, method=\"glm\", metric=\"Accuracy\", trControl=stackControl)\n",
    "print(stack.glm)"
   ]
  },
  {
   "cell_type": "code",
   "execution_count": 19,
   "metadata": {},
   "outputs": [
    {
     "data": {
      "text/plain": [
       "\n",
       "Call:\n",
       "NULL\n",
       "\n",
       "Deviance Residuals: \n",
       "    Min       1Q   Median       3Q      Max  \n",
       "-2.4988  -0.6056  -0.3705   0.5762   2.4169  \n",
       "\n",
       "Coefficients:\n",
       "            Estimate Std. Error z value Pr(>|z|)    \n",
       "(Intercept)  -3.1084     0.1321 -23.535   <2e-16 ***\n",
       "rf            3.6916     0.3832   9.633   <2e-16 ***\n",
       "gbm           3.0369     0.2610  11.638   <2e-16 ***\n",
       "---\n",
       "Signif. codes:  0 ‘***’ 0.001 ‘**’ 0.01 ‘*’ 0.05 ‘.’ 0.1 ‘ ’ 1\n",
       "\n",
       "(Dispersion parameter for binomial family taken to be 1)\n",
       "\n",
       "    Null deviance: 3224.5  on 2403  degrees of freedom\n",
       "Residual deviance: 2077.7  on 2401  degrees of freedom\n",
       "AIC: 2083.7\n",
       "\n",
       "Number of Fisher Scoring iterations: 5\n"
      ]
     },
     "metadata": {},
     "output_type": "display_data"
    }
   ],
   "source": [
    "#summary\n",
    "summary(stack.glm)"
   ]
  }
 ],
 "metadata": {
  "kernelspec": {
   "display_name": "R",
   "language": "R",
   "name": "ir"
  },
  "language_info": {
   "codemirror_mode": "r",
   "file_extension": ".r",
   "mimetype": "text/x-r-source",
   "name": "R",
   "pygments_lexer": "r",
   "version": "3.4.2"
  }
 },
 "nbformat": 4,
 "nbformat_minor": 2
}
